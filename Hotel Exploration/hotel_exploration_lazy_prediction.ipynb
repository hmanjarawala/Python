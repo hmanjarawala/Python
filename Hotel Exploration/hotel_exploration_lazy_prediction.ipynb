{
 "cells": [
  {
   "cell_type": "code",
   "execution_count": 1,
   "metadata": {},
   "outputs": [
    {
     "name": "stderr",
     "output_type": "stream",
     "text": [
      "C:\\Users\\himanshu.manjarawala\\AppData\\Local\\Continuum\\anaconda3\\lib\\site-packages\\dask\\config.py:168: YAMLLoadWarning: calling yaml.load() without Loader=... is deprecated, as the default Loader is unsafe. Please read https://msg.pyyaml.org/load for full details.\n",
      "  data = yaml.load(f.read()) or {}\n",
      "C:\\Users\\himanshu.manjarawala\\AppData\\Local\\Continuum\\anaconda3\\lib\\site-packages\\distributed\\config.py:20: YAMLLoadWarning: calling yaml.load() without Loader=... is deprecated, as the default Loader is unsafe. Please read https://msg.pyyaml.org/load for full details.\n",
      "  defaults = yaml.load(f)\n"
     ]
    }
   ],
   "source": [
    "from lazypredict import LazyClassifier\n",
    "from sklearn.model_selection import train_test_split\n",
    "import pandas as pd"
   ]
  },
  {
   "cell_type": "code",
   "execution_count": 2,
   "metadata": {},
   "outputs": [],
   "source": [
    "# reading data files\n",
    "data_h1 = pd.read_csv('./data/H1.csv')\n",
    "data_h2 = pd.read_csv('./data/H2.csv')"
   ]
  },
  {
   "cell_type": "code",
   "execution_count": 3,
   "metadata": {},
   "outputs": [],
   "source": [
    "# combing the datasets together\n",
    "data_h12 = pd.concat([data_h1, data_h2], axis=0)"
   ]
  },
  {
   "cell_type": "code",
   "execution_count": 4,
   "metadata": {},
   "outputs": [],
   "source": [
    "# Cleaning Column company\n",
    "#print(data_h12['company'].unique()[:20])"
   ]
  },
  {
   "cell_type": "code",
   "execution_count": 5,
   "metadata": {},
   "outputs": [],
   "source": [
    "#def clean_company(x):\n",
    "#    try:\n",
    "#        return 'company_'+x.split()[0]\n",
    "#    except:\n",
    "#        return 'company_unknown'"
   ]
  },
  {
   "cell_type": "code",
   "execution_count": 6,
   "metadata": {},
   "outputs": [],
   "source": [
    "# converting into categorical values\n",
    "#data_h12['company'] = data_h12['company'].apply(clean_company)\n",
    "\n",
    "#data_h12['company'].unique()[:20]"
   ]
  },
  {
   "cell_type": "code",
   "execution_count": 7,
   "metadata": {},
   "outputs": [],
   "source": [
    "#data_h12 = pd.concat([data_h12,\n",
    "#                      pd.get_dummies(data_h12['company'])], axis=1)"
   ]
  },
  {
   "cell_type": "code",
   "execution_count": 8,
   "metadata": {},
   "outputs": [],
   "source": [
    "data_h12.drop('company', axis=1, inplace=True)"
   ]
  },
  {
   "cell_type": "code",
   "execution_count": 9,
   "metadata": {},
   "outputs": [],
   "source": [
    "\"\"\"\n",
    "Cleaning reservation_status_date\n",
    "    1. Extracting Year, Month and Date from reservation_status_date and concatinating it to the dataframe data_h12 and dropping the reservation_status_date\n",
    "    2. This datetime extraction gives us better features.\n",
    "\"\"\"\n",
    "RSD = pd.DataFrame(pd.to_datetime(data_h12['reservation_status_date']).astype('str'))"
   ]
  },
  {
   "cell_type": "code",
   "execution_count": 10,
   "metadata": {},
   "outputs": [],
   "source": [
    "def clean_RSD(x, dt='d'):\n",
    "    try:\n",
    "        if dt=='d':\n",
    "            dt_no = 2\n",
    "        elif dt=='m':\n",
    "            dt_no = 1\n",
    "        elif dt=='y':\n",
    "            dt_no = 0\n",
    "        return list(x)[0].split('-')[dt_no]\n",
    "    except:\n",
    "        return x.split('-')[dt_no]"
   ]
  },
  {
   "cell_type": "code",
   "execution_count": 11,
   "metadata": {},
   "outputs": [],
   "source": [
    "RSD['ReservationStatusDate_year'] = RSD['reservation_status_date'].apply(clean_RSD, args=('y')).astype(int)\n",
    "RSD['ReservationStatusDate_month'] = RSD['reservation_status_date'].apply(clean_RSD, args=('m')).astype(int)\n",
    "RSD['ReservationStatusDate_day'] = RSD['reservation_status_date'].apply(clean_RSD, args=('d')).astype(int)"
   ]
  },
  {
   "cell_type": "code",
   "execution_count": 12,
   "metadata": {},
   "outputs": [],
   "source": [
    "data_h12 = pd.concat([data_h12, RSD.iloc[:, 1:]], axis=1)"
   ]
  },
  {
   "cell_type": "code",
   "execution_count": 13,
   "metadata": {},
   "outputs": [],
   "source": [
    "data_h12.drop('reservation_status_date', axis=1, inplace=True)"
   ]
  },
  {
   "cell_type": "code",
   "execution_count": 14,
   "metadata": {},
   "outputs": [
    {
     "name": "stdout",
     "output_type": "stream",
     "text": [
      "['July' 'August' 'September' 'October' 'November' 'December' 'January'\n",
      " 'February' 'March' 'April' 'May' 'June']\n"
     ]
    }
   ],
   "source": [
    "# Cleaning arrival_date_month\n",
    "# Mapping the Month Name into Month number\n",
    "print(data_h12['arrival_date_month'].unique())"
   ]
  },
  {
   "cell_type": "code",
   "execution_count": 15,
   "metadata": {},
   "outputs": [],
   "source": [
    "month_to_num = {\n",
    "    'January': '01',\n",
    "    'February': '02',\n",
    "    'March': '03',\n",
    "    'April': '04',\n",
    "    'May': '05',\n",
    "    'June': '06',\n",
    "    'July': '07',\n",
    "    'August': '08',\n",
    "    'September':'09',\n",
    "    'October': '10',\n",
    "    'November': '11',\n",
    "    'December': '12'\n",
    "}"
   ]
  },
  {
   "cell_type": "code",
   "execution_count": 16,
   "metadata": {},
   "outputs": [],
   "source": [
    "data_h12['arrival_date_month'] = data_h12['arrival_date_month'].map(month_to_num).astype('int')"
   ]
  },
  {
   "cell_type": "code",
   "execution_count": 17,
   "metadata": {},
   "outputs": [],
   "source": [
    "# Cleaning meal\n",
    "#    1. Label Encoding and Binarizing\n",
    "#    2. concatenating to data_h12\n",
    "#    3. dropping original Meal\n",
    "def meal_parser(x):\n",
    "    if x!='Undefined':\n",
    "        return x.split(' ')[0]\n",
    "    else:\n",
    "        return 'Undefined'"
   ]
  },
  {
   "cell_type": "code",
   "execution_count": 18,
   "metadata": {},
   "outputs": [],
   "source": [
    "#meal_data = data_h12['meal'].apply(meal_parser)\n",
    "#meal_data = pd.get_dummies(meal_data)"
   ]
  },
  {
   "cell_type": "code",
   "execution_count": 19,
   "metadata": {},
   "outputs": [],
   "source": [
    "# adding `meal_data`\n",
    "#data_h12 = pd.concat([data_h12, meal_data], axis=1)\n",
    "# dropping `meal`\n",
    "#data_h12.drop('meal', axis=1, inplace=True)"
   ]
  },
  {
   "cell_type": "code",
   "execution_count": 20,
   "metadata": {},
   "outputs": [],
   "source": [
    "# Cleaning reservation_status\n",
    "#    1. Label Encoding\n",
    "#    2. Dropping reservation_status\n",
    "data_h12 = pd.concat([data_h12, pd.get_dummies(data_h12['reservation_status'])], axis=1)"
   ]
  },
  {
   "cell_type": "code",
   "execution_count": 21,
   "metadata": {},
   "outputs": [],
   "source": [
    "data_h12.drop('reservation_status', axis=1, inplace=True)"
   ]
  },
  {
   "cell_type": "code",
   "execution_count": 22,
   "metadata": {},
   "outputs": [],
   "source": [
    "# Cleaning country\n",
    "# one hot encoding `Country`\n",
    "#country_col = pd.get_dummies(data_h12['country'])\n",
    "\n",
    "# creating column names\n",
    "#country_col_names = ['country_'+str(con) for con in list(country_col.columns)]\n",
    "# adding column names\n",
    "#country_col.columns = country_col_names\n",
    "\n",
    "# concatenating to the main DataFrame\n",
    "#data_h12 = pd.concat([data_h12, country_col], axis=1)"
   ]
  },
  {
   "cell_type": "code",
   "execution_count": 23,
   "metadata": {},
   "outputs": [
    {
     "name": "stdout",
     "output_type": "stream",
     "text": [
      "Index(['is_canceled', 'lead_time', 'arrival_date_year', 'arrival_date_month',\n",
      "       'arrival_date_week_number', 'arrival_date_day_of_month',\n",
      "       'stays_in_weekend_nights', 'stays_in_week_nights', 'adults', 'children',\n",
      "       'babies', 'meal', 'country', 'market_segment', 'distribution_channel',\n",
      "       'is_repeated_guest', 'previous_cancellations',\n",
      "       'previous_bookings_not_canceled', 'reserved_room_type',\n",
      "       'assigned_room_type', 'booking_changes', 'deposit_type', 'agent',\n",
      "       'days_in_waiting_list', 'customer_type', 'adr',\n",
      "       'required_car_parking_spaces', 'total_of_special_requests',\n",
      "       'ReservationStatusDate_year', 'ReservationStatusDate_month',\n",
      "       'ReservationStatusDate_day', 'Canceled', 'Check-Out', 'No-Show'],\n",
      "      dtype='object')\n"
     ]
    }
   ],
   "source": [
    "print(data_h12.columns)"
   ]
  },
  {
   "cell_type": "code",
   "execution_count": 24,
   "metadata": {},
   "outputs": [],
   "source": [
    "# Cleaning customer_type\n",
    "#data_h12 = pd.concat([data_h12, pd.get_dummies(data_h12['customer_type'])],\n",
    "#                    axis=1)\n",
    "#data_h12.drop('customer_type', axis=1, inplace=True)"
   ]
  },
  {
   "cell_type": "code",
   "execution_count": 25,
   "metadata": {},
   "outputs": [],
   "source": [
    "# Cleaning distribution_channel\n",
    "#data_h12 = pd.concat([data_h12, pd.get_dummies(data_h12['distribution_channel'])],\n",
    "#                    axis=1)\n",
    "#data_h12.drop('distribution_channel', axis=1, inplace=True)"
   ]
  },
  {
   "cell_type": "code",
   "execution_count": 26,
   "metadata": {},
   "outputs": [],
   "source": [
    "# Cleaning market_segment\n",
    "#data_h12 = pd.concat([data_h12, pd.get_dummies(data_h12['market_segment'])],axis=1)\n",
    "#data_h12.drop('market_segment', axis=1, inplace=True)"
   ]
  },
  {
   "cell_type": "code",
   "execution_count": 27,
   "metadata": {},
   "outputs": [
    {
     "name": "stdout",
     "output_type": "stream",
     "text": [
      "<class 'pandas.core.frame.DataFrame'>\n",
      "Int64Index: 44560 entries, 0 to 4499\n",
      "Data columns (total 28 columns):\n",
      "is_canceled                       44560 non-null int64\n",
      "lead_time                         44560 non-null int64\n",
      "arrival_date_year                 44560 non-null int64\n",
      "arrival_date_month                44560 non-null int32\n",
      "arrival_date_week_number          44560 non-null int64\n",
      "arrival_date_day_of_month         44560 non-null int64\n",
      "stays_in_weekend_nights           44560 non-null int64\n",
      "stays_in_week_nights              44560 non-null int64\n",
      "adults                            44560 non-null int64\n",
      "babies                            44560 non-null int64\n",
      "meal                              44560 non-null object\n",
      "market_segment                    44560 non-null object\n",
      "distribution_channel              44560 non-null object\n",
      "is_repeated_guest                 44560 non-null int64\n",
      "previous_cancellations            44560 non-null int64\n",
      "previous_bookings_not_canceled    44560 non-null int64\n",
      "booking_changes                   44560 non-null int64\n",
      "days_in_waiting_list              44560 non-null int64\n",
      "customer_type                     44560 non-null object\n",
      "adr                               44560 non-null float64\n",
      "required_car_parking_spaces       44560 non-null int64\n",
      "total_of_special_requests         44560 non-null int64\n",
      "ReservationStatusDate_year        44560 non-null int32\n",
      "ReservationStatusDate_month       44560 non-null int32\n",
      "ReservationStatusDate_day         44560 non-null int32\n",
      "Canceled                          44560 non-null uint8\n",
      "Check-Out                         44560 non-null uint8\n",
      "No-Show                           44560 non-null uint8\n",
      "dtypes: float64(1), int32(4), int64(16), object(4), uint8(3)\n",
      "memory usage: 8.3+ MB\n"
     ]
    }
   ],
   "source": [
    "drop_object_cols = ['country',\n",
    "                    'reserved_room_type',\n",
    "                    'assigned_room_type',\n",
    "                    'deposit_type','agent', 'children']\n",
    "data_h12.drop(drop_object_cols, axis=1, inplace=True)\n",
    "data_h12.info()"
   ]
  },
  {
   "cell_type": "code",
   "execution_count": 28,
   "metadata": {},
   "outputs": [],
   "source": [
    "# Label\n",
    "y = data_h12['Canceled']\n",
    "# Features\n",
    "X = data_h12.drop(['Canceled', 'is_canceled', 'Check-Out'], axis=1)"
   ]
  },
  {
   "cell_type": "code",
   "execution_count": 29,
   "metadata": {},
   "outputs": [],
   "source": [
    "X_train, X_test, y_train, y_test = train_test_split(X,y, test_size=.7, random_state=123)"
   ]
  },
  {
   "cell_type": "code",
   "execution_count": 30,
   "metadata": {},
   "outputs": [],
   "source": [
    "clf = LazyClassifier(verbose=0,ignore_warnings=False, custom_metric=None)"
   ]
  },
  {
   "cell_type": "code",
   "execution_count": 31,
   "metadata": {},
   "outputs": [
    {
     "name": "stderr",
     "output_type": "stream",
     "text": [
      "100%|██████████████████████████████████████████████████████████████████████████████████| 26/26 [15:56<00:00,  6.61s/it]\n"
     ]
    },
    {
     "data": {
      "text/html": [
       "<div>\n",
       "<style scoped>\n",
       "    .dataframe tbody tr th:only-of-type {\n",
       "        vertical-align: middle;\n",
       "    }\n",
       "\n",
       "    .dataframe tbody tr th {\n",
       "        vertical-align: top;\n",
       "    }\n",
       "\n",
       "    .dataframe thead th {\n",
       "        text-align: right;\n",
       "    }\n",
       "</style>\n",
       "<table border=\"1\" class=\"dataframe\">\n",
       "  <thead>\n",
       "    <tr style=\"text-align: right;\">\n",
       "      <th></th>\n",
       "      <th>Accuracy</th>\n",
       "      <th>Balanced Accuracy</th>\n",
       "      <th>ROC AUC</th>\n",
       "      <th>F1 Score</th>\n",
       "      <th>Time Taken</th>\n",
       "    </tr>\n",
       "    <tr>\n",
       "      <th>Model</th>\n",
       "      <th></th>\n",
       "      <th></th>\n",
       "      <th></th>\n",
       "      <th></th>\n",
       "      <th></th>\n",
       "    </tr>\n",
       "  </thead>\n",
       "  <tbody>\n",
       "    <tr>\n",
       "      <th>XGBClassifier</th>\n",
       "      <td>0.98</td>\n",
       "      <td>0.97</td>\n",
       "      <td>0.97</td>\n",
       "      <td>0.98</td>\n",
       "      <td>3.16</td>\n",
       "    </tr>\n",
       "    <tr>\n",
       "      <th>LGBMClassifier</th>\n",
       "      <td>0.97</td>\n",
       "      <td>0.94</td>\n",
       "      <td>0.94</td>\n",
       "      <td>0.97</td>\n",
       "      <td>0.89</td>\n",
       "    </tr>\n",
       "    <tr>\n",
       "      <th>BaggingClassifier</th>\n",
       "      <td>0.92</td>\n",
       "      <td>0.88</td>\n",
       "      <td>0.88</td>\n",
       "      <td>0.92</td>\n",
       "      <td>4.92</td>\n",
       "    </tr>\n",
       "    <tr>\n",
       "      <th>DecisionTreeClassifier</th>\n",
       "      <td>0.89</td>\n",
       "      <td>0.86</td>\n",
       "      <td>0.86</td>\n",
       "      <td>0.89</td>\n",
       "      <td>0.78</td>\n",
       "    </tr>\n",
       "    <tr>\n",
       "      <th>RandomForestClassifier</th>\n",
       "      <td>0.90</td>\n",
       "      <td>0.85</td>\n",
       "      <td>0.85</td>\n",
       "      <td>0.90</td>\n",
       "      <td>0.61</td>\n",
       "    </tr>\n",
       "    <tr>\n",
       "      <th>LabelSpreading</th>\n",
       "      <td>0.88</td>\n",
       "      <td>0.84</td>\n",
       "      <td>0.84</td>\n",
       "      <td>0.88</td>\n",
       "      <td>259.55</td>\n",
       "    </tr>\n",
       "    <tr>\n",
       "      <th>LabelPropagation</th>\n",
       "      <td>0.88</td>\n",
       "      <td>0.84</td>\n",
       "      <td>0.84</td>\n",
       "      <td>0.88</td>\n",
       "      <td>494.19</td>\n",
       "    </tr>\n",
       "    <tr>\n",
       "      <th>ExtraTreesClassifier</th>\n",
       "      <td>0.90</td>\n",
       "      <td>0.84</td>\n",
       "      <td>0.84</td>\n",
       "      <td>0.89</td>\n",
       "      <td>1.46</td>\n",
       "    </tr>\n",
       "    <tr>\n",
       "      <th>KNeighborsClassifier</th>\n",
       "      <td>0.88</td>\n",
       "      <td>0.81</td>\n",
       "      <td>0.81</td>\n",
       "      <td>0.87</td>\n",
       "      <td>80.17</td>\n",
       "    </tr>\n",
       "    <tr>\n",
       "      <th>ExtraTreeClassifier</th>\n",
       "      <td>0.83</td>\n",
       "      <td>0.79</td>\n",
       "      <td>0.79</td>\n",
       "      <td>0.83</td>\n",
       "      <td>0.72</td>\n",
       "    </tr>\n",
       "    <tr>\n",
       "      <th>SVC</th>\n",
       "      <td>0.86</td>\n",
       "      <td>0.76</td>\n",
       "      <td>0.76</td>\n",
       "      <td>0.85</td>\n",
       "      <td>28.55</td>\n",
       "    </tr>\n",
       "    <tr>\n",
       "      <th>AdaBoostClassifier</th>\n",
       "      <td>0.82</td>\n",
       "      <td>0.74</td>\n",
       "      <td>0.74</td>\n",
       "      <td>0.81</td>\n",
       "      <td>3.06</td>\n",
       "    </tr>\n",
       "    <tr>\n",
       "      <th>BernoulliNB</th>\n",
       "      <td>0.76</td>\n",
       "      <td>0.71</td>\n",
       "      <td>0.71</td>\n",
       "      <td>0.77</td>\n",
       "      <td>0.80</td>\n",
       "    </tr>\n",
       "    <tr>\n",
       "      <th>LogisticRegression</th>\n",
       "      <td>0.81</td>\n",
       "      <td>0.71</td>\n",
       "      <td>0.71</td>\n",
       "      <td>0.79</td>\n",
       "      <td>2.71</td>\n",
       "    </tr>\n",
       "    <tr>\n",
       "      <th>GaussianNB</th>\n",
       "      <td>0.73</td>\n",
       "      <td>0.71</td>\n",
       "      <td>0.71</td>\n",
       "      <td>0.74</td>\n",
       "      <td>0.65</td>\n",
       "    </tr>\n",
       "    <tr>\n",
       "      <th>NuSVC</th>\n",
       "      <td>0.83</td>\n",
       "      <td>0.70</td>\n",
       "      <td>0.70</td>\n",
       "      <td>0.80</td>\n",
       "      <td>46.15</td>\n",
       "    </tr>\n",
       "    <tr>\n",
       "      <th>CalibratedClassifierCV</th>\n",
       "      <td>0.80</td>\n",
       "      <td>0.70</td>\n",
       "      <td>0.70</td>\n",
       "      <td>0.79</td>\n",
       "      <td>11.96</td>\n",
       "    </tr>\n",
       "    <tr>\n",
       "      <th>LinearSVC</th>\n",
       "      <td>0.80</td>\n",
       "      <td>0.70</td>\n",
       "      <td>0.70</td>\n",
       "      <td>0.79</td>\n",
       "      <td>11.19</td>\n",
       "    </tr>\n",
       "    <tr>\n",
       "      <th>SGDClassifier</th>\n",
       "      <td>0.76</td>\n",
       "      <td>0.69</td>\n",
       "      <td>0.69</td>\n",
       "      <td>0.76</td>\n",
       "      <td>0.30</td>\n",
       "    </tr>\n",
       "    <tr>\n",
       "      <th>NearestCentroid</th>\n",
       "      <td>0.68</td>\n",
       "      <td>0.69</td>\n",
       "      <td>0.69</td>\n",
       "      <td>0.70</td>\n",
       "      <td>0.80</td>\n",
       "    </tr>\n",
       "    <tr>\n",
       "      <th>LinearDiscriminantAnalysis</th>\n",
       "      <td>0.79</td>\n",
       "      <td>0.68</td>\n",
       "      <td>0.68</td>\n",
       "      <td>0.78</td>\n",
       "      <td>1.76</td>\n",
       "    </tr>\n",
       "    <tr>\n",
       "      <th>RidgeClassifierCV</th>\n",
       "      <td>0.80</td>\n",
       "      <td>0.67</td>\n",
       "      <td>0.67</td>\n",
       "      <td>0.77</td>\n",
       "      <td>0.40</td>\n",
       "    </tr>\n",
       "    <tr>\n",
       "      <th>RidgeClassifier</th>\n",
       "      <td>0.80</td>\n",
       "      <td>0.67</td>\n",
       "      <td>0.67</td>\n",
       "      <td>0.77</td>\n",
       "      <td>0.31</td>\n",
       "    </tr>\n",
       "    <tr>\n",
       "      <th>Perceptron</th>\n",
       "      <td>0.74</td>\n",
       "      <td>0.66</td>\n",
       "      <td>0.66</td>\n",
       "      <td>0.73</td>\n",
       "      <td>0.30</td>\n",
       "    </tr>\n",
       "    <tr>\n",
       "      <th>PassiveAggressiveClassifier</th>\n",
       "      <td>0.75</td>\n",
       "      <td>0.65</td>\n",
       "      <td>0.65</td>\n",
       "      <td>0.74</td>\n",
       "      <td>0.32</td>\n",
       "    </tr>\n",
       "    <tr>\n",
       "      <th>QuadraticDiscriminantAnalysis</th>\n",
       "      <td>0.72</td>\n",
       "      <td>0.58</td>\n",
       "      <td>0.58</td>\n",
       "      <td>0.69</td>\n",
       "      <td>0.46</td>\n",
       "    </tr>\n",
       "  </tbody>\n",
       "</table>\n",
       "</div>"
      ],
      "text/plain": [
       "                               Accuracy  Balanced Accuracy  ROC AUC  F1 Score  \\\n",
       "Model                                                                           \n",
       "XGBClassifier                      0.98               0.97     0.97      0.98   \n",
       "LGBMClassifier                     0.97               0.94     0.94      0.97   \n",
       "BaggingClassifier                  0.92               0.88     0.88      0.92   \n",
       "DecisionTreeClassifier             0.89               0.86     0.86      0.89   \n",
       "RandomForestClassifier             0.90               0.85     0.85      0.90   \n",
       "LabelSpreading                     0.88               0.84     0.84      0.88   \n",
       "LabelPropagation                   0.88               0.84     0.84      0.88   \n",
       "ExtraTreesClassifier               0.90               0.84     0.84      0.89   \n",
       "KNeighborsClassifier               0.88               0.81     0.81      0.87   \n",
       "ExtraTreeClassifier                0.83               0.79     0.79      0.83   \n",
       "SVC                                0.86               0.76     0.76      0.85   \n",
       "AdaBoostClassifier                 0.82               0.74     0.74      0.81   \n",
       "BernoulliNB                        0.76               0.71     0.71      0.77   \n",
       "LogisticRegression                 0.81               0.71     0.71      0.79   \n",
       "GaussianNB                         0.73               0.71     0.71      0.74   \n",
       "NuSVC                              0.83               0.70     0.70      0.80   \n",
       "CalibratedClassifierCV             0.80               0.70     0.70      0.79   \n",
       "LinearSVC                          0.80               0.70     0.70      0.79   \n",
       "SGDClassifier                      0.76               0.69     0.69      0.76   \n",
       "NearestCentroid                    0.68               0.69     0.69      0.70   \n",
       "LinearDiscriminantAnalysis         0.79               0.68     0.68      0.78   \n",
       "RidgeClassifierCV                  0.80               0.67     0.67      0.77   \n",
       "RidgeClassifier                    0.80               0.67     0.67      0.77   \n",
       "Perceptron                         0.74               0.66     0.66      0.73   \n",
       "PassiveAggressiveClassifier        0.75               0.65     0.65      0.74   \n",
       "QuadraticDiscriminantAnalysis      0.72               0.58     0.58      0.69   \n",
       "\n",
       "                               Time Taken  \n",
       "Model                                      \n",
       "XGBClassifier                        3.16  \n",
       "LGBMClassifier                       0.89  \n",
       "BaggingClassifier                    4.92  \n",
       "DecisionTreeClassifier               0.78  \n",
       "RandomForestClassifier               0.61  \n",
       "LabelSpreading                     259.55  \n",
       "LabelPropagation                   494.19  \n",
       "ExtraTreesClassifier                 1.46  \n",
       "KNeighborsClassifier                80.17  \n",
       "ExtraTreeClassifier                  0.72  \n",
       "SVC                                 28.55  \n",
       "AdaBoostClassifier                   3.06  \n",
       "BernoulliNB                          0.80  \n",
       "LogisticRegression                   2.71  \n",
       "GaussianNB                           0.65  \n",
       "NuSVC                               46.15  \n",
       "CalibratedClassifierCV              11.96  \n",
       "LinearSVC                           11.19  \n",
       "SGDClassifier                        0.30  \n",
       "NearestCentroid                      0.80  \n",
       "LinearDiscriminantAnalysis           1.76  \n",
       "RidgeClassifierCV                    0.40  \n",
       "RidgeClassifier                      0.31  \n",
       "Perceptron                           0.30  \n",
       "PassiveAggressiveClassifier          0.32  \n",
       "QuadraticDiscriminantAnalysis        0.46  "
      ]
     },
     "execution_count": 31,
     "metadata": {},
     "output_type": "execute_result"
    }
   ],
   "source": [
    "models,predictions = clf.fit(X_train, X_test, y_train, y_test)\n",
    "models"
   ]
  }
 ],
 "metadata": {
  "kernelspec": {
   "display_name": "Python 3",
   "language": "python",
   "name": "python3"
  },
  "language_info": {
   "codemirror_mode": {
    "name": "ipython",
    "version": 3
   },
   "file_extension": ".py",
   "mimetype": "text/x-python",
   "name": "python",
   "nbconvert_exporter": "python",
   "pygments_lexer": "ipython3",
   "version": "3.7.3"
  }
 },
 "nbformat": 4,
 "nbformat_minor": 4
}
