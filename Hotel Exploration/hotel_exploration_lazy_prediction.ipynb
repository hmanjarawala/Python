{
 "cells": [
  {
   "cell_type": "code",
   "execution_count": 1,
   "metadata": {},
   "outputs": [
    {
     "name": "stderr",
     "output_type": "stream",
     "text": [
      "C:\\Users\\himanshu.manjarawala\\AppData\\Local\\Continuum\\anaconda3\\lib\\site-packages\\dask\\config.py:168: YAMLLoadWarning: calling yaml.load() without Loader=... is deprecated, as the default Loader is unsafe. Please read https://msg.pyyaml.org/load for full details.\n",
      "  data = yaml.load(f.read()) or {}\n",
      "C:\\Users\\himanshu.manjarawala\\AppData\\Local\\Continuum\\anaconda3\\lib\\site-packages\\distributed\\config.py:20: YAMLLoadWarning: calling yaml.load() without Loader=... is deprecated, as the default Loader is unsafe. Please read https://msg.pyyaml.org/load for full details.\n",
      "  defaults = yaml.load(f)\n"
     ]
    }
   ],
   "source": [
    "from lazypredict import LazyClassifier\n",
    "from sklearn.model_selection import train_test_split\n",
    "import pandas as pd"
   ]
  },
  {
   "cell_type": "code",
   "execution_count": 2,
   "metadata": {},
   "outputs": [],
   "source": [
    "# reading data files\n",
    "data_h1 = pd.read_csv('./data/H1.csv')\n",
    "data_h2 = pd.read_csv('./data/H2.csv')"
   ]
  },
  {
   "cell_type": "code",
   "execution_count": 3,
   "metadata": {},
   "outputs": [],
   "source": [
    "# combing the datasets together\n",
    "data_h12 = pd.concat([data_h1, data_h2], axis=0)"
   ]
  },
  {
   "cell_type": "code",
   "execution_count": 4,
   "metadata": {},
   "outputs": [
    {
     "name": "stdout",
     "output_type": "stream",
     "text": [
      "['       NULL' '110' '113' '270' '178' '240' '154' '144' '307' '268' '59'\n",
      " '204' '312' '318' '94' '174' '274' '195' '223' '317']\n"
     ]
    }
   ],
   "source": [
    "# Cleaning Column company\n",
    "print(data_h12['company'].unique()[:20])"
   ]
  },
  {
   "cell_type": "code",
   "execution_count": 5,
   "metadata": {},
   "outputs": [],
   "source": [
    "def clean_company(x):\n",
    "    try:\n",
    "        return 'company_'+x.split()[0]\n",
    "    except:\n",
    "        return 'company_unknown'"
   ]
  },
  {
   "cell_type": "code",
   "execution_count": 6,
   "metadata": {},
   "outputs": [
    {
     "data": {
      "text/plain": [
       "array(['company_NULL', 'company_110', 'company_113', 'company_270',\n",
       "       'company_178', 'company_240', 'company_154', 'company_144',\n",
       "       'company_307', 'company_268', 'company_59', 'company_204',\n",
       "       'company_312', 'company_318', 'company_94', 'company_174',\n",
       "       'company_274', 'company_195', 'company_223', 'company_317'],\n",
       "      dtype=object)"
      ]
     },
     "execution_count": 6,
     "metadata": {},
     "output_type": "execute_result"
    }
   ],
   "source": [
    "# converting into categorical values\n",
    "data_h12['company'] = data_h12['company'].apply(clean_company)\n",
    "\n",
    "data_h12['company'].unique()[:20]"
   ]
  },
  {
   "cell_type": "code",
   "execution_count": 7,
   "metadata": {},
   "outputs": [],
   "source": [
    "data_h12 = pd.concat([data_h12,\n",
    "                      pd.get_dummies(data_h12['company'])], axis=1)"
   ]
  },
  {
   "cell_type": "code",
   "execution_count": 8,
   "metadata": {},
   "outputs": [],
   "source": [
    "data_h12.drop('company', axis=1, inplace=True)"
   ]
  },
  {
   "cell_type": "code",
   "execution_count": 9,
   "metadata": {},
   "outputs": [],
   "source": [
    "\"\"\"\n",
    "Cleaning reservation_status_date\n",
    "    1. Extracting Year, Month and Date from reservation_status_date and concatinating it to the dataframe data_h12 and dropping the reservation_status_date\n",
    "    2. This datetime extraction gives us better features.\n",
    "\"\"\"\n",
    "RSD = pd.DataFrame(pd.to_datetime(data_h12['reservation_status_date']).astype('str'))"
   ]
  },
  {
   "cell_type": "code",
   "execution_count": 10,
   "metadata": {},
   "outputs": [],
   "source": [
    "def clean_RSD(x, dt='d'):\n",
    "    try:\n",
    "        if dt=='d':\n",
    "            dt_no = 2\n",
    "        elif dt=='m':\n",
    "            dt_no = 1\n",
    "        elif dt=='y':\n",
    "            dt_no = 0\n",
    "        return list(x)[0].split('-')[dt_no]\n",
    "    except:\n",
    "        return x.split('-')[dt_no]"
   ]
  },
  {
   "cell_type": "code",
   "execution_count": 11,
   "metadata": {},
   "outputs": [],
   "source": [
    "RSD['ReservationStatusDate_year'] = RSD['reservation_status_date'].apply(clean_RSD, args=('y')).astype(int)\n",
    "RSD['ReservationStatusDate_month'] = RSD['reservation_status_date'].apply(clean_RSD, args=('m')).astype(int)\n",
    "RSD['ReservationStatusDate_day'] = RSD['reservation_status_date'].apply(clean_RSD, args=('d')).astype(int)"
   ]
  },
  {
   "cell_type": "code",
   "execution_count": 12,
   "metadata": {},
   "outputs": [],
   "source": [
    "data_h12 = pd.concat([data_h12, RSD.iloc[:, 1:]], axis=1)"
   ]
  },
  {
   "cell_type": "code",
   "execution_count": 13,
   "metadata": {},
   "outputs": [],
   "source": [
    "data_h12.drop('reservation_status_date', axis=1, inplace=True)"
   ]
  },
  {
   "cell_type": "code",
   "execution_count": 14,
   "metadata": {},
   "outputs": [
    {
     "name": "stdout",
     "output_type": "stream",
     "text": [
      "['July' 'August' 'September' 'October' 'November' 'December' 'January'\n",
      " 'February' 'March' 'April' 'May' 'June']\n"
     ]
    }
   ],
   "source": [
    "# Cleaning arrival_date_month\n",
    "# Mapping the Month Name into Month number\n",
    "print(data_h12['arrival_date_month'].unique())"
   ]
  },
  {
   "cell_type": "code",
   "execution_count": 15,
   "metadata": {},
   "outputs": [],
   "source": [
    "month_to_num = {\n",
    "    'January': '01',\n",
    "    'February': '02',\n",
    "    'March': '03',\n",
    "    'April': '04',\n",
    "    'May': '05',\n",
    "    'June': '06',\n",
    "    'July': '07',\n",
    "    'August': '08',\n",
    "    'September':'09',\n",
    "    'October': '10',\n",
    "    'November': '11',\n",
    "    'December': '12'\n",
    "}"
   ]
  },
  {
   "cell_type": "code",
   "execution_count": 16,
   "metadata": {},
   "outputs": [],
   "source": [
    "data_h12['arrival_date_month'] = data_h12['arrival_date_month'].map(month_to_num).astype('int')"
   ]
  },
  {
   "cell_type": "code",
   "execution_count": 17,
   "metadata": {},
   "outputs": [],
   "source": [
    "# Cleaning meal\n",
    "#    1. Label Encoding and Binarizing\n",
    "#    2. concatenating to data_h12\n",
    "#    3. dropping original Meal\n",
    "def meal_parser(x):\n",
    "    if x!='Undefined':\n",
    "        return x.split(' ')[0]\n",
    "    else:\n",
    "        return 'Undefined'"
   ]
  },
  {
   "cell_type": "code",
   "execution_count": 18,
   "metadata": {},
   "outputs": [],
   "source": [
    "meal_data = data_h12['meal'].apply(meal_parser)\n",
    "meal_data = pd.get_dummies(meal_data)"
   ]
  },
  {
   "cell_type": "code",
   "execution_count": 19,
   "metadata": {},
   "outputs": [],
   "source": [
    "# adding `meal_data`\n",
    "data_h12 = pd.concat([data_h12, meal_data], axis=1)\n",
    "# dropping `meal`\n",
    "data_h12.drop('meal', axis=1, inplace=True)"
   ]
  },
  {
   "cell_type": "code",
   "execution_count": 20,
   "metadata": {},
   "outputs": [],
   "source": [
    "# Cleaning reservation_status\n",
    "#    1. Label Encoding\n",
    "#    2. Dropping reservation_status\n",
    "data_h12 = pd.concat([data_h12, pd.get_dummies(data_h12['reservation_status'])], axis=1)"
   ]
  },
  {
   "cell_type": "code",
   "execution_count": 21,
   "metadata": {},
   "outputs": [],
   "source": [
    "data_h12.drop('reservation_status', axis=1, inplace=True)"
   ]
  },
  {
   "cell_type": "code",
   "execution_count": 22,
   "metadata": {},
   "outputs": [],
   "source": [
    "# Cleaning country\n",
    "# one hot encoding `Country`\n",
    "country_col = pd.get_dummies(data_h12['country'])\n",
    "\n",
    "# creating column names\n",
    "country_col_names = ['country_'+str(con) for con in list(country_col.columns)]\n",
    "# adding column names\n",
    "country_col.columns = country_col_names\n",
    "\n",
    "# concatenating to the main DataFrame\n",
    "#data_h12 = pd.concat([data_h12, country_col], axis=1)"
   ]
  },
  {
   "cell_type": "code",
   "execution_count": 23,
   "metadata": {},
   "outputs": [
    {
     "name": "stdout",
     "output_type": "stream",
     "text": [
      "Index(['is_canceled', 'lead_time', 'arrival_date_year', 'arrival_date_month',\n",
      "       'arrival_date_week_number', 'arrival_date_day_of_month',\n",
      "       'stays_in_weekend_nights', 'stays_in_week_nights', 'adults', 'children',\n",
      "       ...\n",
      "       'ReservationStatusDate_month', 'ReservationStatusDate_day', 'BB', 'FB',\n",
      "       'HB', 'SC', 'Undefined', 'Canceled', 'Check-Out', 'No-Show'],\n",
      "      dtype='object', length=282)\n"
     ]
    }
   ],
   "source": [
    "print(data_h12.columns)"
   ]
  },
  {
   "cell_type": "code",
   "execution_count": 24,
   "metadata": {},
   "outputs": [],
   "source": [
    "# Cleaning customer_type\n",
    "#data_h12 = pd.concat([data_h12, pd.get_dummies(data_h12['customer_type'])],\n",
    "#                    axis=1)\n",
    "data_h12.drop('customer_type', axis=1, inplace=True)"
   ]
  },
  {
   "cell_type": "code",
   "execution_count": 25,
   "metadata": {},
   "outputs": [],
   "source": [
    "# Cleaning distribution_channel\n",
    "#data_h12 = pd.concat([data_h12, pd.get_dummies(data_h12['distribution_channel'])],\n",
    "#                    axis=1)\n",
    "data_h12.drop('distribution_channel', axis=1, inplace=True)"
   ]
  },
  {
   "cell_type": "code",
   "execution_count": 26,
   "metadata": {},
   "outputs": [],
   "source": [
    "# Cleaning market_segment\n",
    "#data_h12 = pd.concat([data_h12, pd.get_dummies(data_h12['market_segment'])],\n",
    "#                    axis=1)\n",
    "data_h12.drop('market_segment', axis=1, inplace=True)"
   ]
  },
  {
   "cell_type": "code",
   "execution_count": 27,
   "metadata": {},
   "outputs": [],
   "source": [
    "drop_object_cols = ['country',\n",
    "                    'reserved_room_type',\n",
    "                    'assigned_room_type',\n",
    "                    'deposit_type','agent', 'children']\n",
    "data_h12.drop(drop_object_cols, axis=1, inplace=True)"
   ]
  },
  {
   "cell_type": "code",
   "execution_count": 28,
   "metadata": {},
   "outputs": [],
   "source": [
    "# Label\n",
    "y = data_h12['Canceled']\n",
    "# Features\n",
    "X = data_h12.drop(['Canceled', 'is_canceled', 'Check-Out'], axis=1)"
   ]
  },
  {
   "cell_type": "code",
   "execution_count": 29,
   "metadata": {},
   "outputs": [],
   "source": [
    "X_train, X_test, y_train, y_test = train_test_split(X,y, test_size=.7, random_state=123)"
   ]
  },
  {
   "cell_type": "code",
   "execution_count": 30,
   "metadata": {},
   "outputs": [],
   "source": [
    "clf = LazyClassifier(verbose=0,ignore_warnings=False, custom_metric=None)"
   ]
  },
  {
   "cell_type": "code",
   "execution_count": 31,
   "metadata": {},
   "outputs": [
    {
     "name": "stderr",
     "output_type": "stream",
     "text": [
      "100%|██████████████████████████████████████████████████████████████████████████████████| 26/26 [04:11<00:00,  5.52s/it]\n"
     ]
    },
    {
     "data": {
      "text/html": [
       "<div>\n",
       "<style scoped>\n",
       "    .dataframe tbody tr th:only-of-type {\n",
       "        vertical-align: middle;\n",
       "    }\n",
       "\n",
       "    .dataframe tbody tr th {\n",
       "        vertical-align: top;\n",
       "    }\n",
       "\n",
       "    .dataframe thead th {\n",
       "        text-align: right;\n",
       "    }\n",
       "</style>\n",
       "<table border=\"1\" class=\"dataframe\">\n",
       "  <thead>\n",
       "    <tr style=\"text-align: right;\">\n",
       "      <th></th>\n",
       "      <th>Accuracy</th>\n",
       "      <th>Balanced Accuracy</th>\n",
       "      <th>ROC AUC</th>\n",
       "      <th>F1 Score</th>\n",
       "      <th>Time Taken</th>\n",
       "    </tr>\n",
       "    <tr>\n",
       "      <th>Model</th>\n",
       "      <th></th>\n",
       "      <th></th>\n",
       "      <th></th>\n",
       "      <th></th>\n",
       "      <th></th>\n",
       "    </tr>\n",
       "  </thead>\n",
       "  <tbody>\n",
       "    <tr>\n",
       "      <th>XGBClassifier</th>\n",
       "      <td>0.98</td>\n",
       "      <td>0.97</td>\n",
       "      <td>0.97</td>\n",
       "      <td>0.98</td>\n",
       "      <td>1.82</td>\n",
       "    </tr>\n",
       "    <tr>\n",
       "      <th>LGBMClassifier</th>\n",
       "      <td>0.97</td>\n",
       "      <td>0.94</td>\n",
       "      <td>0.94</td>\n",
       "      <td>0.96</td>\n",
       "      <td>0.72</td>\n",
       "    </tr>\n",
       "    <tr>\n",
       "      <th>BaggingClassifier</th>\n",
       "      <td>0.94</td>\n",
       "      <td>0.90</td>\n",
       "      <td>0.90</td>\n",
       "      <td>0.94</td>\n",
       "      <td>0.81</td>\n",
       "    </tr>\n",
       "    <tr>\n",
       "      <th>DecisionTreeClassifier</th>\n",
       "      <td>0.91</td>\n",
       "      <td>0.89</td>\n",
       "      <td>0.89</td>\n",
       "      <td>0.91</td>\n",
       "      <td>0.22</td>\n",
       "    </tr>\n",
       "    <tr>\n",
       "      <th>ExtraTreesClassifier</th>\n",
       "      <td>0.93</td>\n",
       "      <td>0.88</td>\n",
       "      <td>0.88</td>\n",
       "      <td>0.93</td>\n",
       "      <td>0.38</td>\n",
       "    </tr>\n",
       "    <tr>\n",
       "      <th>RandomForestClassifier</th>\n",
       "      <td>0.93</td>\n",
       "      <td>0.88</td>\n",
       "      <td>0.88</td>\n",
       "      <td>0.92</td>\n",
       "      <td>0.52</td>\n",
       "    </tr>\n",
       "    <tr>\n",
       "      <th>LabelPropagation</th>\n",
       "      <td>0.89</td>\n",
       "      <td>0.85</td>\n",
       "      <td>0.85</td>\n",
       "      <td>0.89</td>\n",
       "      <td>70.51</td>\n",
       "    </tr>\n",
       "    <tr>\n",
       "      <th>LabelSpreading</th>\n",
       "      <td>0.89</td>\n",
       "      <td>0.85</td>\n",
       "      <td>0.85</td>\n",
       "      <td>0.89</td>\n",
       "      <td>94.44</td>\n",
       "    </tr>\n",
       "    <tr>\n",
       "      <th>ExtraTreeClassifier</th>\n",
       "      <td>0.88</td>\n",
       "      <td>0.84</td>\n",
       "      <td>0.84</td>\n",
       "      <td>0.88</td>\n",
       "      <td>0.14</td>\n",
       "    </tr>\n",
       "    <tr>\n",
       "      <th>KNeighborsClassifier</th>\n",
       "      <td>0.89</td>\n",
       "      <td>0.82</td>\n",
       "      <td>0.82</td>\n",
       "      <td>0.88</td>\n",
       "      <td>16.38</td>\n",
       "    </tr>\n",
       "    <tr>\n",
       "      <th>SVC</th>\n",
       "      <td>0.89</td>\n",
       "      <td>0.80</td>\n",
       "      <td>0.80</td>\n",
       "      <td>0.88</td>\n",
       "      <td>29.52</td>\n",
       "    </tr>\n",
       "    <tr>\n",
       "      <th>NuSVC</th>\n",
       "      <td>0.83</td>\n",
       "      <td>0.70</td>\n",
       "      <td>0.70</td>\n",
       "      <td>0.81</td>\n",
       "      <td>24.88</td>\n",
       "    </tr>\n",
       "    <tr>\n",
       "      <th>AdaBoostClassifier</th>\n",
       "      <td>0.79</td>\n",
       "      <td>0.69</td>\n",
       "      <td>0.69</td>\n",
       "      <td>0.78</td>\n",
       "      <td>0.93</td>\n",
       "    </tr>\n",
       "    <tr>\n",
       "      <th>NearestCentroid</th>\n",
       "      <td>0.67</td>\n",
       "      <td>0.68</td>\n",
       "      <td>0.68</td>\n",
       "      <td>0.69</td>\n",
       "      <td>0.11</td>\n",
       "    </tr>\n",
       "    <tr>\n",
       "      <th>SGDClassifier</th>\n",
       "      <td>0.73</td>\n",
       "      <td>0.66</td>\n",
       "      <td>0.66</td>\n",
       "      <td>0.73</td>\n",
       "      <td>0.53</td>\n",
       "    </tr>\n",
       "    <tr>\n",
       "      <th>PassiveAggressiveClassifier</th>\n",
       "      <td>0.69</td>\n",
       "      <td>0.64</td>\n",
       "      <td>0.64</td>\n",
       "      <td>0.70</td>\n",
       "      <td>0.17</td>\n",
       "    </tr>\n",
       "    <tr>\n",
       "      <th>BernoulliNB</th>\n",
       "      <td>0.74</td>\n",
       "      <td>0.62</td>\n",
       "      <td>0.62</td>\n",
       "      <td>0.72</td>\n",
       "      <td>0.16</td>\n",
       "    </tr>\n",
       "    <tr>\n",
       "      <th>CalibratedClassifierCV</th>\n",
       "      <td>0.76</td>\n",
       "      <td>0.62</td>\n",
       "      <td>0.62</td>\n",
       "      <td>0.73</td>\n",
       "      <td>4.06</td>\n",
       "    </tr>\n",
       "    <tr>\n",
       "      <th>GaussianNB</th>\n",
       "      <td>0.45</td>\n",
       "      <td>0.61</td>\n",
       "      <td>0.61</td>\n",
       "      <td>0.42</td>\n",
       "      <td>0.17</td>\n",
       "    </tr>\n",
       "    <tr>\n",
       "      <th>LogisticRegression</th>\n",
       "      <td>0.76</td>\n",
       "      <td>0.61</td>\n",
       "      <td>0.61</td>\n",
       "      <td>0.73</td>\n",
       "      <td>0.30</td>\n",
       "    </tr>\n",
       "    <tr>\n",
       "      <th>Perceptron</th>\n",
       "      <td>0.70</td>\n",
       "      <td>0.61</td>\n",
       "      <td>0.61</td>\n",
       "      <td>0.70</td>\n",
       "      <td>0.18</td>\n",
       "    </tr>\n",
       "    <tr>\n",
       "      <th>LinearSVC</th>\n",
       "      <td>0.76</td>\n",
       "      <td>0.61</td>\n",
       "      <td>0.61</td>\n",
       "      <td>0.72</td>\n",
       "      <td>3.04</td>\n",
       "    </tr>\n",
       "    <tr>\n",
       "      <th>LinearDiscriminantAnalysis</th>\n",
       "      <td>0.75</td>\n",
       "      <td>0.60</td>\n",
       "      <td>0.60</td>\n",
       "      <td>0.71</td>\n",
       "      <td>0.34</td>\n",
       "    </tr>\n",
       "    <tr>\n",
       "      <th>RidgeClassifier</th>\n",
       "      <td>0.75</td>\n",
       "      <td>0.58</td>\n",
       "      <td>0.58</td>\n",
       "      <td>0.70</td>\n",
       "      <td>0.58</td>\n",
       "    </tr>\n",
       "    <tr>\n",
       "      <th>RidgeClassifierCV</th>\n",
       "      <td>0.75</td>\n",
       "      <td>0.58</td>\n",
       "      <td>0.58</td>\n",
       "      <td>0.70</td>\n",
       "      <td>0.29</td>\n",
       "    </tr>\n",
       "    <tr>\n",
       "      <th>QuadraticDiscriminantAnalysis</th>\n",
       "      <td>0.71</td>\n",
       "      <td>0.50</td>\n",
       "      <td>0.50</td>\n",
       "      <td>0.62</td>\n",
       "      <td>0.20</td>\n",
       "    </tr>\n",
       "  </tbody>\n",
       "</table>\n",
       "</div>"
      ],
      "text/plain": [
       "                               Accuracy  Balanced Accuracy  ROC AUC  F1 Score  \\\n",
       "Model                                                                           \n",
       "XGBClassifier                      0.98               0.97     0.97      0.98   \n",
       "LGBMClassifier                     0.97               0.94     0.94      0.96   \n",
       "BaggingClassifier                  0.94               0.90     0.90      0.94   \n",
       "DecisionTreeClassifier             0.91               0.89     0.89      0.91   \n",
       "ExtraTreesClassifier               0.93               0.88     0.88      0.93   \n",
       "RandomForestClassifier             0.93               0.88     0.88      0.92   \n",
       "LabelPropagation                   0.89               0.85     0.85      0.89   \n",
       "LabelSpreading                     0.89               0.85     0.85      0.89   \n",
       "ExtraTreeClassifier                0.88               0.84     0.84      0.88   \n",
       "KNeighborsClassifier               0.89               0.82     0.82      0.88   \n",
       "SVC                                0.89               0.80     0.80      0.88   \n",
       "NuSVC                              0.83               0.70     0.70      0.81   \n",
       "AdaBoostClassifier                 0.79               0.69     0.69      0.78   \n",
       "NearestCentroid                    0.67               0.68     0.68      0.69   \n",
       "SGDClassifier                      0.73               0.66     0.66      0.73   \n",
       "PassiveAggressiveClassifier        0.69               0.64     0.64      0.70   \n",
       "BernoulliNB                        0.74               0.62     0.62      0.72   \n",
       "CalibratedClassifierCV             0.76               0.62     0.62      0.73   \n",
       "GaussianNB                         0.45               0.61     0.61      0.42   \n",
       "LogisticRegression                 0.76               0.61     0.61      0.73   \n",
       "Perceptron                         0.70               0.61     0.61      0.70   \n",
       "LinearSVC                          0.76               0.61     0.61      0.72   \n",
       "LinearDiscriminantAnalysis         0.75               0.60     0.60      0.71   \n",
       "RidgeClassifier                    0.75               0.58     0.58      0.70   \n",
       "RidgeClassifierCV                  0.75               0.58     0.58      0.70   \n",
       "QuadraticDiscriminantAnalysis      0.71               0.50     0.50      0.62   \n",
       "\n",
       "                               Time Taken  \n",
       "Model                                      \n",
       "XGBClassifier                        1.82  \n",
       "LGBMClassifier                       0.72  \n",
       "BaggingClassifier                    0.81  \n",
       "DecisionTreeClassifier               0.22  \n",
       "ExtraTreesClassifier                 0.38  \n",
       "RandomForestClassifier               0.52  \n",
       "LabelPropagation                    70.51  \n",
       "LabelSpreading                      94.44  \n",
       "ExtraTreeClassifier                  0.14  \n",
       "KNeighborsClassifier                16.38  \n",
       "SVC                                 29.52  \n",
       "NuSVC                               24.88  \n",
       "AdaBoostClassifier                   0.93  \n",
       "NearestCentroid                      0.11  \n",
       "SGDClassifier                        0.53  \n",
       "PassiveAggressiveClassifier          0.17  \n",
       "BernoulliNB                          0.16  \n",
       "CalibratedClassifierCV               4.06  \n",
       "GaussianNB                           0.17  \n",
       "LogisticRegression                   0.30  \n",
       "Perceptron                           0.18  \n",
       "LinearSVC                            3.04  \n",
       "LinearDiscriminantAnalysis           0.34  \n",
       "RidgeClassifier                      0.58  \n",
       "RidgeClassifierCV                    0.29  \n",
       "QuadraticDiscriminantAnalysis        0.20  "
      ]
     },
     "execution_count": 31,
     "metadata": {},
     "output_type": "execute_result"
    }
   ],
   "source": [
    "models,predictions = clf.fit(X_train, X_test, y_train, y_test)\n",
    "models"
   ]
  }
 ],
 "metadata": {
  "kernelspec": {
   "display_name": "Python 3",
   "language": "python",
   "name": "python3"
  },
  "language_info": {
   "codemirror_mode": {
    "name": "ipython",
    "version": 3
   },
   "file_extension": ".py",
   "mimetype": "text/x-python",
   "name": "python",
   "nbconvert_exporter": "python",
   "pygments_lexer": "ipython3",
   "version": "3.7.3"
  }
 },
 "nbformat": 4,
 "nbformat_minor": 4
}
