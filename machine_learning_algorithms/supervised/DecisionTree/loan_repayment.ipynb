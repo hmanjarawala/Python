{
 "cells": [
  {
   "cell_type": "code",
   "execution_count": 2,
   "metadata": {},
   "outputs": [],
   "source": [
    "#import the necessary packages\n",
    "import numpy as np\n",
    "import pandas as pd\n",
    "from sklearn.model_selection import train_test_split\n",
    "from sklearn.tree import DecisionTreeClassifier\n",
    "from sklearn.metrics import classification_report, confusion_matrix, accuracy_score, mean_squared_error\n",
    "from sklearn import tree\n",
    "\n",
    "# Loading data file\n",
    "fullFilePath = r\"data_2.csv\"\n",
    "balance_data = pd.read_csv(fullFilePath, sep=\",\", header=0)"
   ]
  },
  {
   "cell_type": "code",
   "execution_count": 3,
   "metadata": {},
   "outputs": [
    {
     "name": "stdout",
     "output_type": "stream",
     "text": [
      "Dataset length::  33\n",
      "Dataset Shape::  (33, 5)\n"
     ]
    }
   ],
   "source": [
    "print(\"Dataset length:: \", len(balance_data))\n",
    "print(\"Dataset Shape:: \", balance_data.shape)"
   ]
  },
  {
   "cell_type": "code",
   "execution_count": 4,
   "metadata": {},
   "outputs": [
    {
     "name": "stdout",
     "output_type": "stream",
     "text": [
      "Dataset:: \n",
      "  Result  Initial payment  Last payment  Credit Score  House Number\n",
      "0    Yes              201         10018           250          3046\n",
      "1    Yes              205         10016           395          3044\n",
      "2    Yes              257         10129           109          3251\n",
      "3    Yes              246         10064           324          3137\n",
      "4    Yes              117         10115           496          3094\n"
     ]
    }
   ],
   "source": [
    "print(\"Dataset:: \")\n",
    "print(balance_data.head())"
   ]
  },
  {
   "cell_type": "code",
   "execution_count": 6,
   "metadata": {},
   "outputs": [
    {
     "data": {
      "text/plain": [
       "DecisionTreeClassifier(class_weight=None, criterion='entropy', max_depth=3,\n",
       "            max_features=None, max_leaf_nodes=None,\n",
       "            min_impurity_decrease=0.0, min_impurity_split=None,\n",
       "            min_samples_leaf=5, min_samples_split=2,\n",
       "            min_weight_fraction_leaf=0.0, presort=False, random_state=100,\n",
       "            splitter='best')"
      ]
     },
     "execution_count": 6,
     "metadata": {},
     "output_type": "execute_result"
    }
   ],
   "source": [
    "# Seperating the target variable\n",
    "X = balance_data.values[:,1:5]\n",
    "Y = balance_data.values[:,0]\n",
    "\n",
    "# Seperating dataset into test and train\n",
    "X_train, X_test, Y_train, Y_test = train_test_split(X, Y, test_size = 0.3, random_state = 100)\n",
    "# Function to perform training with entropy\n",
    "clf_entropy = DecisionTreeClassifier(criterion = \"entropy\", random_state = 100,\n",
    "                                   max_depth = 3, min_samples_leaf = 5 )\n",
    "clf_entropy.fit(X_train, Y_train)"
   ]
  },
  {
   "cell_type": "code",
   "execution_count": 7,
   "metadata": {},
   "outputs": [
    {
     "name": "stdout",
     "output_type": "stream",
     "text": [
      "['Yes' 'No' 'Yes' 'No' 'Yes' 'Yes' 'No' 'Yes' 'Yes' 'Yes']\n"
     ]
    }
   ],
   "source": [
    "Y_pred_en = clf_entropy.predict(X_test)\n",
    "print(Y_pred_en)"
   ]
  },
  {
   "cell_type": "code",
   "execution_count": 11,
   "metadata": {},
   "outputs": [
    {
     "name": "stdout",
     "output_type": "stream",
     "text": [
      "Accuracy is  100.0\n",
      "Confusion Matrix is \n",
      "[[3 0]\n",
      " [0 7]]\n",
      "Classification Report is \n",
      "              precision    recall  f1-score   support\n",
      "\n",
      "          No       1.00      1.00      1.00         3\n",
      "         Yes       1.00      1.00      1.00         7\n",
      "\n",
      "   micro avg       1.00      1.00      1.00        10\n",
      "   macro avg       1.00      1.00      1.00        10\n",
      "weighted avg       1.00      1.00      1.00        10\n",
      "\n"
     ]
    }
   ],
   "source": [
    "# Checking accuracy\n",
    "print(\"Accuracy is \", accuracy_score(Y_test, Y_pred_en)*100)\n",
    "print(\"Confusion Matrix is \")\n",
    "print(confusion_matrix(Y_test, Y_pred_en))\n",
    "print(\"Classification Report is \")\n",
    "print(classification_report(Y_test, Y_pred_en))"
   ]
  },
  {
   "cell_type": "code",
   "execution_count": null,
   "metadata": {},
   "outputs": [],
   "source": []
  }
 ],
 "metadata": {
  "kernelspec": {
   "display_name": "Python 3",
   "language": "python",
   "name": "python3"
  },
  "language_info": {
   "codemirror_mode": {
    "name": "ipython",
    "version": 3
   },
   "file_extension": ".py",
   "mimetype": "text/x-python",
   "name": "python",
   "nbconvert_exporter": "python",
   "pygments_lexer": "ipython3",
   "version": "3.7.3"
  }
 },
 "nbformat": 4,
 "nbformat_minor": 4
}
